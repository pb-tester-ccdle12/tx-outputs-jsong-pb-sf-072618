{
 "cells": [
  {
   "cell_type": "markdown",
   "metadata": {},
   "source": [
    "# Outputs\n",
    "\n",
    "As hinted in the previous section, outputs define where the bitcoins are actually going. We must have at least one output and can have lots of outputs. An exchange may batch transactions, for example, and pay out a lot of people at once instead of generating a single transaction for every single person that requests Bitcoins.\n",
    "\n",
    "Outputs each have two fields: amount and ScriptPubKey. Amount is the amount of bitcoin being assigned and is specified in satoshis, or 1/100,000,000th of a Bitcoin. This allows us to divide Bitcoin very finely, down to 1/100th of a penny in USD terms as of this writing.\n",
    "\n",
    "ScriptPubKey is much like ScriptSig in that it has to do with Bitcoin's smart contract language SCRIPT. Think of ScriptPubKey as the lock box that can only be opened by the holder of the key. A one-way safe that can receive deposits from anyone, but can only be opened by the owner of the safe."
   ]
  },
  {
   "cell_type": "markdown",
   "metadata": {},
   "source": [
    "### Test Driven Exercise\n",
    "\n",
    "Parse the transaction outputs."
   ]
  },
  {
   "cell_type": "code",
   "execution_count": 3,
   "metadata": {},
   "outputs": [],
   "source": [
    "from tx import Tx, TxIn, TxOut\n",
    "from helper import (\n",
    "    little_endian_to_int,\n",
    "    read_varint,\n",
    ")\n",
    "\n",
    "class Tx(Tx):\n",
    "\n",
    "    @classmethod\n",
    "    def parse(cls, s):\n",
    "        '''Takes a byte stream and parses the transaction at the start\n",
    "        return a Tx object\n",
    "        '''\n",
    "        # s.read(n) will return n bytes\n",
    "        # version has 4 bytes, little-endian, interpret as int\n",
    "        version = little_endian_to_int(s.read(4))\n",
    "        # num_inputs is a varint, use read_varint(s)\n",
    "        # each input needs parsing\n",
    "        num_inputs = read_varint(s)\n",
    "        # each input needs parsing\n",
    "        inputs = []\n",
    "        for _ in range(num_inputs):\n",
    "            inputs.append(TxIn.parse(s))\n",
    "\n",
    "        # num_outputs is a varint, use read_varint(s)\n",
    "        # each output needs parsing\n",
    "        outputs = []\n",
    "        # leave locktime empty for now\n",
    "        locktime = []\n",
    "        # return an instance of the class... cls(version, inputs, outputs, locktime)\n",
    "        return cls(version, inputs, outputs, locktime)\n",
    "\n",
    "\n",
    "class TxOut(TxOut):\n",
    "    \n",
    "    @classmethod\n",
    "    def parse(cls, s):\n",
    "        '''Takes a byte stream and parses the tx_output at the start\n",
    "        return a TxOut object\n",
    "        '''\n",
    "        # s.read(n) will return n bytes\n",
    "        # amount is 8 bytes, little endian, interpret as int\n",
    "        # script_pubkey is a variable field (length followed by the data)\n",
    "        # get the length by using read_varint(s)\n",
    "        # return an instance of the class (cls(...))\n",
    "        pass"
   ]
  }
 ],
 "metadata": {
  "kernelspec": {
   "display_name": "Python 3",
   "language": "python",
   "name": "python3"
  },
  "language_info": {
   "codemirror_mode": {
    "name": "ipython",
    "version": 3
   },
   "file_extension": ".py",
   "mimetype": "text/x-python",
   "name": "python",
   "nbconvert_exporter": "python",
   "pygments_lexer": "ipython3",
   "version": "3.6.4"
  }
 },
 "nbformat": 4,
 "nbformat_minor": 2
}
